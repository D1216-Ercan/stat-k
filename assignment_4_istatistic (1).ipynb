{
  "cells": [
    {
      "cell_type": "code",
      "execution_count": 1,
      "metadata": {
        "id": "ChxUfED22vqO"
      },
      "outputs": [],
      "source": [
        "import numpy as np\n",
        "from scipy import stats"
      ]
    },
    {
      "cell_type": "markdown",
      "metadata": {
        "id": "zaHnDC2Ualui"
      },
      "source": [
        "exercise 1\n"
      ]
    },
    {
      "cell_type": "code",
      "execution_count": 2,
      "metadata": {
        "id": "2X-tSsms24q2"
      },
      "outputs": [],
      "source": [
        "p = 0.3\n",
        "n = 10\n",
        "x = 0   "
      ]
    },
    {
      "cell_type": "markdown",
      "metadata": {
        "id": "p9Ck09UH3MBT"
      },
      "source": [
        "**cdf(x, n, p, loc=0)\tCumulative density function**"
      ]
    },
    {
      "cell_type": "code",
      "execution_count": 3,
      "metadata": {
        "colab": {
          "base_uri": "https://localhost:8080/"
        },
        "id": "rxfXAXzA2_gT",
        "outputId": "78df74be-f914-4329-b057-6c3af00ae31e"
      },
      "outputs": [
        {
          "output_type": "execute_result",
          "data": {
            "text/plain": [
              "0.028247524899999984"
            ]
          },
          "metadata": {},
          "execution_count": 3
        }
      ],
      "source": [
        "stats.binom.cdf(x, n, p)"
      ]
    },
    {
      "cell_type": "code",
      "execution_count": 4,
      "metadata": {
        "colab": {
          "base_uri": "https://localhost:8080/"
        },
        "id": "ZRumGWBk2_i7",
        "outputId": "6e36fa38-b12e-491a-cc4f-98641692a0aa"
      },
      "outputs": [
        {
          "output_type": "execute_result",
          "data": {
            "text/plain": [
              "0.9717524751000001"
            ]
          },
          "metadata": {},
          "execution_count": 4
        }
      ],
      "source": [
        "1 - stats.binom.cdf(x, n, p)"
      ]
    },
    {
      "cell_type": "markdown",
      "metadata": {
        "id": "_KiEWZv2b8KJ"
      },
      "source": [
        "2. bölüm\n"
      ]
    },
    {
      "cell_type": "code",
      "execution_count": 5,
      "metadata": {
        "id": "ZdTZZ98k3Zed"
      },
      "outputs": [],
      "source": [
        "# Solution with Scipy\n",
        "\n",
        "n = 10 \n",
        "p = 0.5\n",
        "x1 = 6 # (en az 6 kez  gelme olması gerekir)"
      ]
    },
    {
      "cell_type": "code",
      "execution_count": 6,
      "metadata": {
        "colab": {
          "base_uri": "https://localhost:8080/"
        },
        "id": "RrnoVihh36x8",
        "outputId": "f199dbf0-b489-4401-d92b-b015dcf2cb16"
      },
      "outputs": [
        {
          "output_type": "execute_result",
          "data": {
            "text/plain": [
              "0.828125"
            ]
          },
          "metadata": {},
          "execution_count": 6
        }
      ],
      "source": [
        "stats.binom.cdf(x1, n, p)"
      ]
    },
    {
      "cell_type": "code",
      "execution_count": 7,
      "metadata": {
        "colab": {
          "base_uri": "https://localhost:8080/"
        },
        "id": "srwL-0Ki360s",
        "outputId": "028de2ab-df1c-4307-b6d4-8a0dd7adf6b7"
      },
      "outputs": [
        {
          "output_type": "execute_result",
          "data": {
            "text/plain": [
              "0.171875"
            ]
          },
          "metadata": {},
          "execution_count": 7
        }
      ],
      "source": [
        "1 - stats.binom.cdf(x1, n, p) # (en az 7 gelme olasılığı)"
      ]
    },
    {
      "cell_type": "code",
      "execution_count": 8,
      "metadata": {
        "id": "e0H868Bx368W"
      },
      "outputs": [],
      "source": [
        "# With Scipy\n",
        "\n",
        "n = 10\n",
        "p = 0.5\n",
        "x2 = 7 #(7 ye eşit gelme olasılığı)"
      ]
    },
    {
      "cell_type": "code",
      "execution_count": 9,
      "metadata": {
        "colab": {
          "base_uri": "https://localhost:8080/"
        },
        "id": "HV2v6WRp4M8E",
        "outputId": "c0009106-ce57-431b-fbd8-113c78050b7a"
      },
      "outputs": [
        {
          "output_type": "execute_result",
          "data": {
            "text/plain": [
              "0.11718750000000014"
            ]
          },
          "metadata": {},
          "execution_count": 9
        }
      ],
      "source": [
        "stats.binom.pmf(x2, n, p)"
      ]
    },
    {
      "cell_type": "code",
      "execution_count": 10,
      "metadata": {
        "id": "WDSkVKl84bL0"
      },
      "outputs": [],
      "source": [
        "# With Scipy\n",
        "\n",
        "n = 10\n",
        "p = 0.5\n",
        "x3 = 7# en fazla yedi"
      ]
    },
    {
      "cell_type": "code",
      "execution_count": 12,
      "metadata": {
        "colab": {
          "base_uri": "https://localhost:8080/"
        },
        "id": "Cj8J-lvH4bOh",
        "outputId": "8fa6bb36-e93d-4711-8939-d5b1e81e5300"
      },
      "outputs": [
        {
          "output_type": "execute_result",
          "data": {
            "text/plain": [
              "0.9453125"
            ]
          },
          "metadata": {},
          "execution_count": 12
        }
      ],
      "source": [
        "stats.binom.cdf(x3, n, p) #(7 ye kadar toplam  değerler alınır.)"
      ]
    },
    {
      "cell_type": "markdown",
      "metadata": {
        "id": "Fb8C6dJ3dlRV"
      },
      "source": [
        "exercise 2"
      ]
    },
    {
      "cell_type": "code",
      "execution_count": 13,
      "metadata": {
        "id": "Ag8JHCF04bT7"
      },
      "outputs": [],
      "source": [
        "p = 1 / (70-50)\n",
        "\n",
        "mu = (70+50) / 2\n",
        "\n",
        "var = (70-50)**2 / 12\n",
        "\n",
        "sigma = np.sqrt(var)"
      ]
    },
    {
      "cell_type": "code",
      "execution_count": 14,
      "metadata": {
        "colab": {
          "base_uri": "https://localhost:8080/"
        },
        "id": "ZwEXq2Tp4bWB",
        "outputId": "990ce6e8-e597-4c9e-a9ec-a206581e0901"
      },
      "outputs": [
        {
          "output_type": "execute_result",
          "data": {
            "text/plain": [
              "0.05"
            ]
          },
          "metadata": {},
          "execution_count": 14
        }
      ],
      "source": [
        "p"
      ]
    },
    {
      "cell_type": "code",
      "execution_count": 15,
      "metadata": {
        "colab": {
          "base_uri": "https://localhost:8080/"
        },
        "id": "ZlbdMfxI4bYa",
        "outputId": "5c32259d-8943-4641-b629-8de4028b3d52"
      },
      "outputs": [
        {
          "output_type": "execute_result",
          "data": {
            "text/plain": [
              "60.0"
            ]
          },
          "metadata": {},
          "execution_count": 15
        }
      ],
      "source": [
        "mu"
      ]
    },
    {
      "cell_type": "code",
      "execution_count": 16,
      "metadata": {
        "colab": {
          "base_uri": "https://localhost:8080/"
        },
        "id": "na_Q9ze04bb6",
        "outputId": "443495fc-5b05-4177-d2f2-0f0275296342"
      },
      "outputs": [
        {
          "output_type": "execute_result",
          "data": {
            "text/plain": [
              "33.333333333333336"
            ]
          },
          "metadata": {},
          "execution_count": 16
        }
      ],
      "source": [
        "var"
      ]
    },
    {
      "cell_type": "code",
      "execution_count": 17,
      "metadata": {
        "colab": {
          "base_uri": "https://localhost:8080/"
        },
        "id": "1S-ndImG4NEA",
        "outputId": "086aed40-88c0-47c9-bc81-feb44a126abb"
      },
      "outputs": [
        {
          "output_type": "execute_result",
          "data": {
            "text/plain": [
              "5.773502691896258"
            ]
          },
          "metadata": {},
          "execution_count": 17
        }
      ],
      "source": [
        "sigma"
      ]
    },
    {
      "cell_type": "code",
      "execution_count": 18,
      "metadata": {
        "colab": {
          "base_uri": "https://localhost:8080/"
        },
        "id": "MOep19sU4vsU",
        "outputId": "1d0c83e0-f902-465a-c1bb-8da1968fd715"
      },
      "outputs": [
        {
          "output_type": "execute_result",
          "data": {
            "text/plain": [
              "0.25"
            ]
          },
          "metadata": {},
          "execution_count": 18
        }
      ],
      "source": [
        "üst=stats.uniform.cdf(70, loc=50, scale=20) -  stats.uniform.cdf(65, loc=50, scale=20)\n",
        "üst"
      ]
    },
    {
      "cell_type": "code",
      "execution_count": 19,
      "metadata": {
        "colab": {
          "base_uri": "https://localhost:8080/"
        },
        "id": "1g0vw1JE4vuk",
        "outputId": "329fc2e3-9e5b-42ce-90aa-bf7fb3531147"
      },
      "outputs": [
        {
          "output_type": "execute_result",
          "data": {
            "text/plain": [
              "0.75"
            ]
          },
          "metadata": {},
          "execution_count": 19
        }
      ],
      "source": [
        "alt= stats.uniform.cdf(70, loc=50, scale=20) - stats.uniform.cdf(55, loc=50, scale=20)\n",
        "alt"
      ]
    },
    {
      "cell_type": "code",
      "execution_count": 21,
      "metadata": {
        "colab": {
          "base_uri": "https://localhost:8080/"
        },
        "id": "8j6zi8kL4vxH",
        "outputId": "f97fa106-a137-49d6-d8ef-58a51701f640"
      },
      "outputs": [
        {
          "output_type": "execute_result",
          "data": {
            "text/plain": [
              "0.3333333333333333"
            ]
          },
          "metadata": {},
          "execution_count": 21
        }
      ],
      "source": [
        "üst/alt  "
      ]
    },
    {
      "cell_type": "markdown",
      "metadata": {
        "id": "URzMDgAPekLy"
      },
      "source": [
        "exercise 3"
      ]
    },
    {
      "cell_type": "code",
      "execution_count": 22,
      "metadata": {
        "id": "-6z7LF1t4v1d"
      },
      "outputs": [],
      "source": [
        "mean=950\n",
        "std=10"
      ]
    },
    {
      "cell_type": "code",
      "execution_count": 23,
      "metadata": {
        "id": "SB3ZbJhu_1Rf"
      },
      "outputs": [],
      "source": [
        "a = stats.norm.cdf(947, mean, std)"
      ]
    },
    {
      "cell_type": "code",
      "execution_count": 24,
      "metadata": {
        "id": "FmHMf_cu_1UR"
      },
      "outputs": [],
      "source": [
        "b =stats.norm.cdf(958, mean, std)"
      ]
    },
    {
      "cell_type": "code",
      "execution_count": 25,
      "metadata": {
        "colab": {
          "base_uri": "https://localhost:8080/"
        },
        "id": "Q-svr0Tr_1Z4",
        "outputId": "7a6acfaa-a2b2-459d-c7ba-20aaae029ff3"
      },
      "outputs": [
        {
          "output_type": "execute_result",
          "data": {
            "text/plain": [
              "0.406056023605556"
            ]
          },
          "metadata": {},
          "execution_count": 25
        }
      ],
      "source": [
        "b-a\n"
      ]
    },
    {
      "cell_type": "markdown",
      "metadata": {
        "id": "F-GxTM0dfOLZ"
      },
      "source": [
        "2. bölüm (ii)"
      ]
    },
    {
      "cell_type": "code",
      "execution_count": 26,
      "metadata": {
        "colab": {
          "base_uri": "https://localhost:8080/"
        },
        "id": "PbVqz9JVA9kD",
        "outputId": "cd06e670-4bdf-4593-8b12-9eb5c710ec7d"
      },
      "outputs": [
        {
          "output_type": "execute_result",
          "data": {
            "text/plain": [
              "1.0498219096264123"
            ]
          },
          "metadata": {},
          "execution_count": 26
        }
      ],
      "source": [
        "z1 = stats.norm.ppf(0.8531)\n",
        "z1"
      ]
    },
    {
      "cell_type": "code",
      "execution_count": 27,
      "metadata": {
        "colab": {
          "base_uri": "https://localhost:8080/"
        },
        "id": "m7UCEA0fA9m1",
        "outputId": "7057d11d-51cc-412e-a433-37f36c78613c"
      },
      "outputs": [
        {
          "output_type": "execute_result",
          "data": {
            "text/plain": [
              "960.4982190962642"
            ]
          },
          "metadata": {},
          "execution_count": 27
        }
      ],
      "source": [
        "C = z1 * 10 + 950\n",
        "C"
      ]
    },
    {
      "cell_type": "markdown",
      "metadata": {
        "id": "lgyjJu2Nf-LK"
      },
      "source": [
        "exercise 4"
      ]
    },
    {
      "cell_type": "code",
      "execution_count": 29,
      "metadata": {
        "id": "Uxb8JkXuBdyc"
      },
      "outputs": [],
      "source": [
        "ci = 0.90\n",
        "n1 = 36\n",
        "mean = 68\n",
        "std = 3\n",
        "sem = 3 / np.sqrt(n1)#(Ort. standart hatas)"
      ]
    },
    {
      "cell_type": "code",
      "execution_count": 31,
      "metadata": {
        "colab": {
          "base_uri": "https://localhost:8080/"
        },
        "id": "c4Rjcj79CHkG",
        "outputId": "8c578049-d19a-415d-f278-22614277717d"
      },
      "outputs": [
        {
          "output_type": "execute_result",
          "data": {
            "text/plain": [
              "(67.17757318652427, 68.82242681347573)"
            ]
          },
          "metadata": {},
          "execution_count": 31
        }
      ],
      "source": [
        "stats.norm.interval(alpha=ci, loc=mean, scale=sem)"
      ]
    },
    {
      "cell_type": "markdown",
      "metadata": {
        "id": "eMor-h7NiANi"
      },
      "source": [
        "exercise 5"
      ]
    },
    {
      "cell_type": "code",
      "execution_count": 33,
      "metadata": {
        "id": "hbRHOtE-CInG"
      },
      "outputs": [],
      "source": [
        "ci1 = 0.99\n",
        "n2 = 130 \n",
        "mean1 = 98.25\n",
        "std1 = 0.73\n",
        "sem1 = 0.73 / np.sqrt(n2)"
      ]
    },
    {
      "cell_type": "code",
      "execution_count": 34,
      "metadata": {
        "colab": {
          "base_uri": "https://localhost:8080/"
        },
        "id": "HKRJqRaYDJjq",
        "outputId": "d48ae2d3-f329-498b-d13e-840cacfd30ec"
      },
      "outputs": [
        {
          "output_type": "execute_result",
          "data": {
            "text/plain": [
              "(98.08508192246582, 98.41491807753418)"
            ]
          },
          "metadata": {},
          "execution_count": 34
        }
      ],
      "source": [
        "stats.norm.interval(alpha=ci1, loc=mean1, scale=sem1)"
      ]
    },
    {
      "cell_type": "markdown",
      "metadata": {
        "id": "sCZ2brF9jEgs"
      },
      "source": [
        "2. bölüm(ii)"
      ]
    },
    {
      "cell_type": "code",
      "execution_count": 35,
      "metadata": {
        "id": "8Ul79jhRiBu9"
      },
      "outputs": [],
      "source": [
        " #( Fail to reject demek için kanıtlarımız var.)"
      ]
    }
  ],
  "metadata": {
    "colab": {
      "collapsed_sections": [],
      "name": "assignment_4_istatistic.ipynb",
      "provenance": []
    },
    "kernelspec": {
      "display_name": "Python 3 (ipykernel)",
      "language": "python",
      "name": "python3"
    },
    "language_info": {
      "codemirror_mode": {
        "name": "ipython",
        "version": 3
      },
      "file_extension": ".py",
      "mimetype": "text/x-python",
      "name": "python",
      "nbconvert_exporter": "python",
      "pygments_lexer": "ipython3",
      "version": "3.9.7"
    }
  },
  "nbformat": 4,
  "nbformat_minor": 0
}